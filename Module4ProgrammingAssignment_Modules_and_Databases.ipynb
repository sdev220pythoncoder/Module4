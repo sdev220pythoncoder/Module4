{
 "cells": [
  {
   "cell_type": "markdown",
   "id": "a657081d-61df-48f8-9ecc-d5662f4e8e0d",
   "metadata": {},
   "source": [
    "11.1 Create a file called zoo.py. In it, define a function called hours() that prints the string 'Open 9-5 daily'. Then, use the interactive interpreter to import the zoo module and call its hours() function."
   ]
  },
  {
   "cell_type": "code",
   "execution_count": 3,
   "id": "d8a50450-70bd-4165-a30d-a381149cc21a",
   "metadata": {},
   "outputs": [
    {
     "name": "stdout",
     "output_type": "stream",
     "text": [
      "Open 9-5 daily\n"
     ]
    }
   ],
   "source": [
    "import zoo\n",
    "zoo.hours()"
   ]
  },
  {
   "cell_type": "markdown",
   "id": "54725357-7d24-493c-b648-f032402f8bce",
   "metadata": {},
   "source": [
    "11.2 In the interactive interpreter, import the zoo module as menagerie and call its hours() function."
   ]
  },
  {
   "cell_type": "code",
   "execution_count": 6,
   "id": "0e3bcf4d-38a2-4031-90fd-8798b81e31ad",
   "metadata": {},
   "outputs": [
    {
     "name": "stdout",
     "output_type": "stream",
     "text": [
      "Open 9-5 daily\n"
     ]
    }
   ],
   "source": [
    "import zoo as menagerie\n",
    "zoo.hours()"
   ]
  },
  {
   "cell_type": "markdown",
   "id": "2cf95077-3ccf-40ab-b113-5fdac7967972",
   "metadata": {},
   "source": [
    "16.3 Create a CSV file called books2.csv by using these lines:\n",
    "title,author,year\n",
    "The Weirdstone of Brisingamen,Alan Garner,1960\n",
    "Perdido Street Station,China Miéville,2000\n",
    "Thud!,Terry Pratchett,2005\n",
    "The Spellman Files,Lisa Lutz,2007\n",
    "Small Gods,Terry Pratchett,1992\n",
    "\n"
   ]
  },
  {
   "cell_type": "code",
   "execution_count": 36,
   "id": "a059e054-c5f4-4f9e-b003-bb398b4735df",
   "metadata": {},
   "outputs": [
    {
     "name": "stdout",
     "output_type": "stream",
     "text": [
      "['title,author,year', 'The Weirdstone of Brisingamen,Alan Garner,1960', 'Perdido Street Station,China Miéville,2000', 'Thud!,Terry Pratchett,2005', 'The Spellman Files,Lisa Lutz,2007', 'Small Gods,Terry Pratchett,1992']\n",
      "\n",
      "\n",
      "[['title', 'author', 'year'], ['The Weirdstone of Brisingamen', 'Alan Garner', '1960'], ['Perdido Street Station', 'China Miéville', '2000'], ['Thud!', 'Terry Pratchett', '2005'], ['The Spellman Files', 'Lisa Lutz', '2007'], ['Small Gods', 'Terry Pratchett', '1992']]\n"
     ]
    }
   ],
   "source": [
    "\n",
    "import csv\n",
    "\n",
    "books = \"\"\"title,author,year\n",
    "The Weirdstone of Brisingamen,Alan Garner,1960\n",
    "Perdido Street Station,China Miéville,2000\n",
    "Thud!,Terry Pratchett,2005\n",
    "The Spellman Files,Lisa Lutz,2007\n",
    "Small Gods,Terry Pratchett,1992\"\"\"\n",
    "\n",
    "#Convert the books string into a list of strings so it can be written line by line to csv\n",
    "#this makes each line in the original string becomes a separate string within the booksList\n",
    "listOfStrings = books.splitlines()\n",
    "\n",
    "# now we need to take each string in the booksList and convert it into a list of 3 strings comprised of title, author and year\n",
    "listOfLists = [line.split(',') for line in listOfStrings]\n",
    "\n",
    "with open('books2.csv', 'wt') as fout:  \n",
    "        csvVar = csv.writer(fout)\n",
    "        #use writerows() to write the entire list of lists to the csv\n",
    "        csvVar.writerows(listOfLists)"
   ]
  },
  {
   "cell_type": "code",
   "execution_count": null,
   "id": "1b932621-1609-4dd1-8910-24cee01ebcf0",
   "metadata": {},
   "outputs": [],
   "source": []
  }
 ],
 "metadata": {
  "kernelspec": {
   "display_name": "Python [conda env:base] *",
   "language": "python",
   "name": "conda-base-py"
  },
  "language_info": {
   "codemirror_mode": {
    "name": "ipython",
    "version": 3
   },
   "file_extension": ".py",
   "mimetype": "text/x-python",
   "name": "python",
   "nbconvert_exporter": "python",
   "pygments_lexer": "ipython3",
   "version": "3.12.7"
  }
 },
 "nbformat": 4,
 "nbformat_minor": 5
}
